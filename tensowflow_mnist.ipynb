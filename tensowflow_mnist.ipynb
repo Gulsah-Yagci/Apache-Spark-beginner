{
  "nbformat": 4,
  "nbformat_minor": 0,
  "metadata": {
    "colab": {
      "name": "tensowflow-mnist.ipynb",
      "provenance": [],
      "authorship_tag": "ABX9TyOkVVK1aD9WyZ1kjcZ9GeWs",
      "include_colab_link": true
    },
    "kernelspec": {
      "name": "python3",
      "display_name": "Python 3"
    }
  },
  "cells": [
    {
      "cell_type": "markdown",
      "metadata": {
        "id": "view-in-github",
        "colab_type": "text"
      },
      "source": [
        "<a href=\"https://colab.research.google.com/github/GulsahYagci34/Apache-Spark-beginner/blob/master/tensowflow_mnist.ipynb\" target=\"_parent\"><img src=\"https://colab.research.google.com/assets/colab-badge.svg\" alt=\"Open In Colab\"/></a>"
      ]
    },
    {
      "cell_type": "markdown",
      "metadata": {
        "id": "jH-IyiHGqQgH"
      },
      "source": [
        "# Tensorflow - MNIST\n",
        "\n",
        "1.[Load in the data](#1)\n",
        "\n",
        "2.[Built the model](#2)"
      ]
    },
    {
      "cell_type": "code",
      "metadata": {
        "id": "XxyezWy2fFu8"
      },
      "source": [
        "import tensorflow as tf"
      ],
      "execution_count": 1,
      "outputs": []
    },
    {
      "cell_type": "markdown",
      "metadata": {
        "id": "XHn1NZySe7lY"
      },
      "source": [
        "<a id='1'></a><br>\n",
        "1. Load in the data"
      ]
    },
    {
      "cell_type": "code",
      "metadata": {
        "id": "jz_vGISJesEQ",
        "outputId": "55fe4422-5087-44e7-e473-6bad23a28fb6",
        "colab": {
          "base_uri": "https://localhost:8080/",
          "height": 50
        }
      },
      "source": [
        "mnist = tf.keras.datasets.mnist\n",
        "\n",
        "(x_train,y_train),(x_test,y_test) = mnist.load_data()"
      ],
      "execution_count": 2,
      "outputs": [
        {
          "output_type": "stream",
          "text": [
            "Downloading data from https://storage.googleapis.com/tensorflow/tf-keras-datasets/mnist.npz\n",
            "11493376/11490434 [==============================] - 0s 0us/step\n"
          ],
          "name": "stdout"
        }
      ]
    },
    {
      "cell_type": "code",
      "metadata": {
        "id": "uWB0fEOhfXGM",
        "outputId": "9c1eb329-0b4d-4684-cc82-db37df39b31f",
        "colab": {
          "base_uri": "https://localhost:8080/",
          "height": 34
        }
      },
      "source": [
        "x_train,x_test = x_train/255.0, x_test/255.0\n",
        "print('x_train.shape: ',x_train.shape)"
      ],
      "execution_count": 3,
      "outputs": [
        {
          "output_type": "stream",
          "text": [
            "x_train.shape:  (60000, 28, 28)\n"
          ],
          "name": "stdout"
        }
      ]
    },
    {
      "cell_type": "markdown",
      "metadata": {
        "id": "5Amju_13fr4C"
      },
      "source": [
        "<a id='2'></a><br>\n",
        "2. Built the model"
      ]
    },
    {
      "cell_type": "code",
      "metadata": {
        "id": "vLhhqjGEfoD4"
      },
      "source": [
        "model = tf.keras.models.Sequential([\n",
        "    tf.keras.layers.Flatten(input_shape=(28,28)),\n",
        "    tf.keras.layers.Dense(128,activation='relu'),\n",
        "    tf.keras.layers.Dropout(0.2),\n",
        "    tf.keras.layers.Dense(10,activation='softmax')\n",
        "])"
      ],
      "execution_count": 4,
      "outputs": []
    },
    {
      "cell_type": "markdown",
      "metadata": {
        "id": "Yv_putttgVdu"
      },
      "source": [
        "3. Compile the model"
      ]
    },
    {
      "cell_type": "code",
      "metadata": {
        "id": "4mAmtq-RgThu"
      },
      "source": [
        "model.compile(optimizer='adam',\n",
        "              loss='sparse_categorical_crossentropy',\n",
        "              metrics = ['accuracy'])"
      ],
      "execution_count": 5,
      "outputs": []
    },
    {
      "cell_type": "markdown",
      "metadata": {
        "id": "FnYdUOdAg-U2"
      },
      "source": [
        "4. Train the model"
      ]
    },
    {
      "cell_type": "code",
      "metadata": {
        "id": "z3yL59Aig86m",
        "outputId": "e8cd0f2d-e8cb-42c0-b3e9-bca21d9dd651",
        "colab": {
          "base_uri": "https://localhost:8080/",
          "height": 353
        }
      },
      "source": [
        "r = model.fit(x_train,y_train,validation_data=(x_test,y_test),epochs=10)"
      ],
      "execution_count": 7,
      "outputs": [
        {
          "output_type": "stream",
          "text": [
            "Epoch 1/10\n",
            "1875/1875 [==============================] - 4s 2ms/step - loss: 0.2940 - accuracy: 0.9148 - val_loss: 0.1379 - val_accuracy: 0.9582\n",
            "Epoch 2/10\n",
            "1875/1875 [==============================] - 4s 2ms/step - loss: 0.1400 - accuracy: 0.9583 - val_loss: 0.0977 - val_accuracy: 0.9692\n",
            "Epoch 3/10\n",
            "1875/1875 [==============================] - 4s 2ms/step - loss: 0.1034 - accuracy: 0.9687 - val_loss: 0.0876 - val_accuracy: 0.9732\n",
            "Epoch 4/10\n",
            "1875/1875 [==============================] - 4s 2ms/step - loss: 0.0881 - accuracy: 0.9727 - val_loss: 0.0826 - val_accuracy: 0.9749\n",
            "Epoch 5/10\n",
            "1875/1875 [==============================] - 4s 2ms/step - loss: 0.0746 - accuracy: 0.9766 - val_loss: 0.0783 - val_accuracy: 0.9760\n",
            "Epoch 6/10\n",
            "1875/1875 [==============================] - 4s 2ms/step - loss: 0.0647 - accuracy: 0.9792 - val_loss: 0.0669 - val_accuracy: 0.9796\n",
            "Epoch 7/10\n",
            "1875/1875 [==============================] - 5s 2ms/step - loss: 0.0575 - accuracy: 0.9809 - val_loss: 0.0658 - val_accuracy: 0.9788\n",
            "Epoch 8/10\n",
            "1875/1875 [==============================] - 5s 3ms/step - loss: 0.0513 - accuracy: 0.9832 - val_loss: 0.0658 - val_accuracy: 0.9794\n",
            "Epoch 9/10\n",
            "1875/1875 [==============================] - 7s 4ms/step - loss: 0.0486 - accuracy: 0.9837 - val_loss: 0.0665 - val_accuracy: 0.9811\n",
            "Epoch 10/10\n",
            "1875/1875 [==============================] - 8s 4ms/step - loss: 0.0446 - accuracy: 0.9854 - val_loss: 0.0645 - val_accuracy: 0.9808\n"
          ],
          "name": "stdout"
        }
      ]
    },
    {
      "cell_type": "markdown",
      "metadata": {
        "id": "4pVpyTP5hlY1"
      },
      "source": [
        "5. Plot loss per iteration"
      ]
    },
    {
      "cell_type": "code",
      "metadata": {
        "id": "PyIbNZq2hNdm",
        "outputId": "45f43bd9-eac3-4f0a-8ea8-68343ddf4494",
        "colab": {
          "base_uri": "https://localhost:8080/",
          "height": 282
        }
      },
      "source": [
        "import matplotlib.pyplot as plt\n",
        "\n",
        "plt.plot(r.history['loss'],label='loss')\n",
        "plt.plot(r.history['val_loss'],label='val_loss')\n",
        "plt.legend()"
      ],
      "execution_count": 8,
      "outputs": [
        {
          "output_type": "execute_result",
          "data": {
            "text/plain": [
              "<matplotlib.legend.Legend at 0x7f51cd83cc18>"
            ]
          },
          "metadata": {
            "tags": []
          },
          "execution_count": 8
        },
        {
          "output_type": "display_data",
          "data": {
            "image/png": "[encoded data removed]",
            "text/plain": [
              "<Figure size 432x288 with 1 Axes>"
            ]
          },
          "metadata": {
            "tags": [],
            "needs_background": "light"
          }
        }
      ]
    },
    {
      "cell_type": "markdown",
      "metadata": {
        "id": "XgTtabCniAIt"
      },
      "source": [
        "6. Plot accuracy per iteration"
      ]
    },
    {
      "cell_type": "code",
      "metadata": {
        "id": "UdId_1Edh9CH",
        "outputId": "de83e05b-511e-4aa2-c6d2-c0a3c33f55b1",
        "colab": {
          "base_uri": "https://localhost:8080/",
          "height": 282
        }
      },
      "source": [
        "plt.plot(r.history['accuracy'],label='acc')\n",
        "plt.plot(r.history['val_accuracy'],label='val_acc')\n",
        "plt.legend()"
      ],
      "execution_count": 9,
      "outputs": [
        {
          "output_type": "execute_result",
          "data": {
            "text/plain": [
              "<matplotlib.legend.Legend at 0x7f51cd3646a0>"
            ]
          },
          "metadata": {
            "tags": []
          },
          "execution_count": 9
        },
        {
          "output_type": "display_data",
          "data": {
            "image/png": "[encoded data removed]",
            "text/plain": [
              "<Figure size 432x288 with 1 Axes>"
            ]
          },
          "metadata": {
            "tags": [],
            "needs_background": "light"
          }
        }
      ]
    },
    {
      "cell_type": "markdown",
      "metadata": {
        "id": "xpWr5A5wigcX"
      },
      "source": [
        "7. Evaluate the model"
      ]
    },
    {
      "cell_type": "code",
      "metadata": {
        "id": "TRgabakXiT5a",
        "outputId": "c0741c9d-65ab-438d-df5a-5d12152a36dc",
        "colab": {
          "base_uri": "https://localhost:8080/",
          "height": 50
        }
      },
      "source": [
        "print(model.evaluate(x_test,y_test))"
      ],
      "execution_count": 10,
      "outputs": [
        {
          "output_type": "stream",
          "text": [
            "313/313 [==============================] - 1s 2ms/step - loss: 0.0645 - accuracy: 0.9808\n",
            "[0.06445347517728806, 0.9807999730110168]\n"
          ],
          "name": "stdout"
        }
      ]
    },
    {
      "cell_type": "markdown",
      "metadata": {
        "id": "UMNU8FHKisD1"
      },
      "source": [
        "8. Plot confusion matrix"
      ]
    },
    {
      "cell_type": "code",
      "metadata": {
        "id": "vghFtTW4iobf",
        "outputId": "91b6c445-a2d2-4014-c39d-8db24d709c04",
        "colab": {
          "base_uri": "https://localhost:8080/",
          "height": 496
        }
      },
      "source": [
        "from sklearn.metrics import confusion_matrix\n",
        "import numpy as np\n",
        "import itertools\n",
        "\n",
        "def plot_confusion_matrix(cm,classes,normalize=False,title='Confusion matrix',cmap=plt.cm.Blues):\n",
        "    if normalize:\n",
        "        cm = cm.astype('float')/cm.sum(axis=1)[:,np.newaxis]\n",
        "        print('Normalized confusion matrix')\n",
        "    else:\n",
        "        print('Confusion matrix, without normalization')\n",
        "    print(cm)\n",
        "\n",
        "    plt.imshow(cm, interpolation='nearest',cmap=cmap)\n",
        "    plt.title(title)\n",
        "    plt.colorbar()\n",
        "    tick_marks = np.arange(len(classes))\n",
        "    plt.xticks(tick_marks,classes,rotation=45)\n",
        "    plt.yticks(tick_marks,classes)\n",
        "\n",
        "    fmt = '.2f' if normalize else 'd'\n",
        "    thresh = cm.max()/2.\n",
        "\n",
        "    for i, j in itertools.product(range(cm.shape[0]), range(cm.shape[1])):\n",
        "      plt.text(j, i, format(cm[i, j], fmt),\n",
        "               horizontalalignment=\"center\",\n",
        "               color=\"white\" if cm[i, j] > thresh else \"black\")\n",
        "\n",
        "    plt.tight_layout()\n",
        "    plt.ylabel('True label')\n",
        "    plt.xlabel('Predicted label')\n",
        "    plt.show()\n",
        "\n",
        "\n",
        "p_test = model.predict(x_test).argmax(axis=1)\n",
        "cm = confusion_matrix(y_test,p_test)\n",
        "plot_confusion_matrix(cm,list(range(10)))"
      ],
      "execution_count": 14,
      "outputs": [
        {
          "output_type": "stream",
          "text": [
            "Confusion matrix, without normalization\n",
            "[[ 967    1    3    1    0    1    4    1    2    0]\n",
            " [   0 1128    2    1    0    1    2    0    1    0]\n",
            " [   0    2 1014    2    4    0    1    5    4    0]\n",
            " [   0    0    2  996    0    2    0    5    3    2]\n",
            " [   0    1    1    0  968    0    5    0    1    6]\n",
            " [   2    1    0   12    2  865    4    2    3    1]\n",
            " [   3    3    2    1    6    4  938    0    1    0]\n",
            " [   1    6    9    3    0    0    0 1005    0    4]\n",
            " [   2    1    4    5    5    3    0    4  947    3]\n",
            " [   1    4    0    8    6    1    0    8    1  980]]\n"
          ],
          "name": "stdout"
        },
        {
          "output_type": "display_data",
          "data": {
            "image/png": "[encoded data removed]",
            "text/plain": [
              "<Figure size 432x288 with 2 Axes>"
            ]
          },
          "metadata": {
            "tags": [],
            "needs_background": "light"
          }
        }
      ]
    },
    {
      "cell_type": "markdown",
      "metadata": {
        "id": "neGjic48oF4h"
      },
      "source": [
        "8. Show some misclassified examples"
      ]
    },
    {
      "cell_type": "code",
      "metadata": {
        "id": "h5AhOFZalZyD",
        "outputId": "d8549fbc-8c65-485c-8846-2cc155998121",
        "colab": {
          "base_uri": "https://localhost:8080/",
          "height": 281
        }
      },
      "source": [
        "misclassified_idx = np.where(p_test != y_test)[0]\n",
        "i = np.random.choice(misclassified_idx)\n",
        "plt.imshow(x_test[i],cmap='gray')\n",
        "plt.title('true label: %s predicted: %s' %(y_test[i],p_test[i]));"
      ],
      "execution_count": 21,
      "outputs": [
        {
          "output_type": "display_data",
          "data": {
            "image/png": "[encoded data removed]",
            "text/plain": [
              "<Figure size 432x288 with 1 Axes>"
            ]
          },
          "metadata": {
            "tags": [],
            "needs_background": "light"
          }
        }
      ]
    },
    {
      "cell_type": "code",
      "metadata": {
        "id": "WWpBbeuqoo2O"
      },
      "source": [
        ""
      ],
      "execution_count": null,
      "outputs": []
    }
  ]
}